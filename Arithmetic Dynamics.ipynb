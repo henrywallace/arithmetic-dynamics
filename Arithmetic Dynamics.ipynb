{
 "cells": [
  {
   "cell_type": "markdown",
   "metadata": {},
   "source": [
    "# Generating Graphs\n",
    "\n",
    "Given some modulus $p$ we can evaluate a function $f$ over all $p$ values. We can represent these connections with an adjacency matrix, but it will be mostly sparse so we store mappings with a dictionary."
   ]
  },
  {
   "cell_type": "code",
   "execution_count": 1,
   "metadata": {
    "collapsed": true
   },
   "outputs": [],
   "source": [
    "def f(x):\n",
    "    return x**2 + 1"
   ]
  },
  {
   "cell_type": "code",
   "execution_count": 2,
   "metadata": {
    "collapsed": true
   },
   "outputs": [],
   "source": [
    "def evaluate(f, p):\n",
    "    return {x: f(x) % p for x in range(p)}"
   ]
  },
  {
   "cell_type": "code",
   "execution_count": 8,
   "metadata": {
    "collapsed": false
   },
   "outputs": [],
   "source": [
    "import igraph"
   ]
  },
  {
   "cell_type": "code",
   "execution_count": 9,
   "metadata": {
    "collapsed": false
   },
   "outputs": [
    {
     "data": {
      "text/html": [
       "<div id=\"graph_36cf5d35-1881-4164-823a-9b68f42fcaee\"></div>\n",
       "           <script type=\"text/javascript\">\n",
       "           require.config({baseUrl: \"/\",\n",
       "                             paths: {igraph: ['nbextensions/igraph.min', 'https://rawgit.com/patrickfuller/igraph/master/js/build/igraph.min']}});\n",
       "           require(['igraph'], function () {\n",
       "               var $d = $('#graph_36cf5d35-1881-4164-823a-9b68f42fcaee');\n",
       "               $d.width(600); $d.height(400);\n",
       "               $d.igraph = jQuery.extend({}, igraph);\n",
       "               $d.igraph.create($d, {nodeSize: 2.000000, edgeSize: 0.250000,\n",
       "                                     defaultNodeColor: '0x5bc0de',\n",
       "                                     defaultEdgeColor: '0xaaaaaa',\n",
       "                                     shader: 'basic', z: '100'});\n",
       "               $d.igraph.draw({\n",
       "    \"edges\": [\n",
       "        { \"source\": 1, \"target\": 2 },\n",
       "        { \"source\": 2, \"target\": 3 },\n",
       "        { \"source\": 3, \"target\": 4 },\n",
       "        { \"source\": 4, \"target\": 1 },\n",
       "        { \"source\": 4, \"target\": 5 },\n",
       "        { \"source\": 5, \"target\": 2 }\n",
       "    ],\n",
       "    \"nodes\": {\n",
       "        \"1\": { \"location\": [ -2.000, -2.000, -1.949 ] },\n",
       "        \"2\": { \"location\": [ -0.920, -0.927, -1.361 ] },\n",
       "        \"3\": { \"location\": [ -0.236, -0.108, 0.037 ] },\n",
       "        \"4\": { \"location\": [ 1.010, 1.108, 1.068 ] },\n",
       "        \"5\": { \"location\": [ 2.000, 2.000, 2.000 ] }\n",
       "    }\n",
       "});\n",
       "\n",
       "               $d.resizable({\n",
       "                   aspectRatio: 600 / 400,\n",
       "                   resize: function (evt, ui) {\n",
       "                       $d.igraph.renderer.setSize(ui.size.width,\n",
       "                                                  ui.size.height);\n",
       "                   }\n",
       "               });\n",
       "           });\n",
       "           </script>"
      ],
      "text/plain": [
       "<IPython.core.display.HTML object>"
      ]
     },
     "metadata": {},
     "output_type": "display_data"
    }
   ],
   "source": [
    "igraph.draw([(1, 2), (2, 3), (3, 4), (4, 1), (4, 5), (5, 2)])"
   ]
  },
  {
   "cell_type": "code",
   "execution_count": null,
   "metadata": {
    "collapsed": true
   },
   "outputs": [],
   "source": []
  }
 ],
 "metadata": {
  "kernelspec": {
   "display_name": "Python 3",
   "language": "python",
   "name": "python3"
  },
  "language_info": {
   "codemirror_mode": {
    "name": "ipython",
    "version": 3
   },
   "file_extension": ".py",
   "mimetype": "text/x-python",
   "name": "python",
   "nbconvert_exporter": "python",
   "pygments_lexer": "ipython3",
   "version": "3.4.3"
  }
 },
 "nbformat": 4,
 "nbformat_minor": 0
}
